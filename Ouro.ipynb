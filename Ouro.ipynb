{
 "cells": [
  {
   "cell_type": "code",
   "execution_count": 45,
   "id": "b1cd62b4",
   "metadata": {},
   "outputs": [],
   "source": [
    "import yfinance as yf\n",
    "import pandas as pd\n",
    "import numpy as np\n",
    "from statsmodels.tsa.stattools import adfuller\n",
    "import statsmodels.api as sm\n",
    "from statsmodels.stats.diagnostic import acorr_ljungbox\n",
    "import matplotlib.pyplot as plt\n",
    "from sklearn.metrics import mean_absolute_error, mean_squared_error\n",
    "from sklearn.linear_model import LinearRegression\n",
    "from xgboost import XGBRegressor\n",
    "\n"
   ]
  },
  {
   "cell_type": "code",
   "execution_count": 46,
   "id": "9ae33277",
   "metadata": {},
   "outputs": [],
   "source": [
    "\n",
    "# ==============================\n",
    "# 1. Coleta de dados\n",
    "# ==============================\n",
    "ouro = yf.Ticker(\"GC=F\")  # Ouro futuro\n",
    "df = ouro.history(period=\"20y\")\n",
    "X = df['Close']\n",
    "\n"
   ]
  },
  {
   "cell_type": "code",
   "execution_count": 47,
   "id": "f40b0059",
   "metadata": {},
   "outputs": [
    {
     "name": "stdout",
     "output_type": "stream",
     "text": [
      "\n",
      "===== Teste ADF (Dickey-Fuller Aumentado) =====\n",
      "Estatística ADF: 1.959026490698939\n",
      "p-valor: 0.9986172852509855\n",
      "Valores críticos: {'1%': np.float64(-3.431659055967043), '5%': np.float64(-2.862118461132801), '10%': np.float64(-2.5670779155711902)}\n",
      "Conclusão: Série não estacionária (não rejeita H0)\n"
     ]
    }
   ],
   "source": [
    "# ==============================\n",
    "# 2. Teste de Estacionariedade (ADF)\n",
    "# ==============================\n",
    "print(\"\\n===== Teste ADF (Dickey-Fuller Aumentado) =====\")\n",
    "adf_result = adfuller(X.dropna())\n",
    "print(\"Estatística ADF:\", adf_result[0])\n",
    "print(\"p-valor:\", adf_result[1])\n",
    "print(\"Valores críticos:\", adf_result[4])\n",
    "\n",
    "if adf_result[1] < 0.05:\n",
    "    print(\"Conclusão: Série estacionária (rejeita H0)\")\n",
    "else:\n",
    "    print(\"Conclusão: Série não estacionária (não rejeita H0)\")\n",
    "\n"
   ]
  },
  {
   "cell_type": "code",
   "execution_count": 48,
   "id": "36f33161",
   "metadata": {},
   "outputs": [
    {
     "name": "stderr",
     "output_type": "stream",
     "text": [
      "/home/lslima/.local/lib/python3.10/site-packages/statsmodels/tsa/base/tsa_model.py:473: ValueWarning: A date index has been provided, but it has no associated frequency information and so will be ignored when e.g. forecasting.\n",
      "  self._init_dates(dates, freq)\n",
      "/home/lslima/.local/lib/python3.10/site-packages/statsmodels/tsa/base/tsa_model.py:473: ValueWarning: A date index has been provided, but it has no associated frequency information and so will be ignored when e.g. forecasting.\n",
      "  self._init_dates(dates, freq)\n",
      "/home/lslima/.local/lib/python3.10/site-packages/statsmodels/tsa/base/tsa_model.py:473: ValueWarning: A date index has been provided, but it has no associated frequency information and so will be ignored when e.g. forecasting.\n",
      "  self._init_dates(dates, freq)\n"
     ]
    },
    {
     "name": "stdout",
     "output_type": "stream",
     "text": [
      "\n",
      "===== Resumo do ARIMA =====\n",
      "                               SARIMAX Results                                \n",
      "==============================================================================\n",
      "Dep. Variable:                  Close   No. Observations:                 5030\n",
      "Model:                 ARIMA(1, 1, 1)   Log Likelihood              -21237.043\n",
      "Date:                Sun, 10 Aug 2025   AIC                          42480.086\n",
      "Time:                        21:04:29   BIC                          42499.655\n",
      "Sample:                             0   HQIC                         42486.942\n",
      "                               - 5030                                         \n",
      "Covariance Type:                  opg                                         \n",
      "==============================================================================\n",
      "                 coef    std err          z      P>|z|      [0.025      0.975]\n",
      "------------------------------------------------------------------------------\n",
      "ar.L1          0.0329      0.345      0.096      0.924      -0.642       0.708\n",
      "ma.L1         -0.0551      0.344     -0.160      0.873      -0.730       0.620\n",
      "sigma2       272.7748      2.585    105.524      0.000     267.708     277.841\n",
      "===================================================================================\n",
      "Ljung-Box (L1) (Q):                   0.01   Jarque-Bera (JB):             12095.93\n",
      "Prob(Q):                              0.93   Prob(JB):                         0.00\n",
      "Heteroskedasticity (H):               2.24   Skew:                            -0.47\n",
      "Prob(H) (two-sided):                  0.00   Kurtosis:                        10.54\n",
      "===================================================================================\n",
      "\n",
      "Warnings:\n",
      "[1] Covariance matrix calculated using the outer product of gradients (complex-step).\n"
     ]
    }
   ],
   "source": [
    "# ==============================\n",
    "# 3. Ajuste do ARIMA\n",
    "# ==============================\n",
    "if adf_result[1] >= 0.05:\n",
    "    d = 1  # diferenciar para estacionarizar\n",
    "else:\n",
    "    d = 0\n",
    "\n",
    "order = (1, d, 1)\n",
    "model = sm.tsa.ARIMA(X, order=order)\n",
    "results = model.fit()\n",
    "\n",
    "print(\"\\n===== Resumo do ARIMA =====\")\n",
    "print(results.summary())\n",
    "\n"
   ]
  },
  {
   "cell_type": "code",
   "execution_count": 49,
   "id": "c2e0ac3d",
   "metadata": {},
   "outputs": [
    {
     "name": "stdout",
     "output_type": "stream",
     "text": [
      "\n",
      "=== ARIMA(1, 1, 0) ===\n",
      "AIC: 42478.094102085466\n",
      "BIC: 42491.14005495781\n",
      "                               SARIMAX Results                                \n",
      "==============================================================================\n",
      "Dep. Variable:                  Close   No. Observations:                 5030\n",
      "Model:                 ARIMA(1, 1, 0)   Log Likelihood              -21237.047\n",
      "Date:                Sun, 10 Aug 2025   AIC                          42478.094\n",
      "Time:                        21:04:30   BIC                          42491.140\n",
      "Sample:                             0   HQIC                         42482.665\n",
      "                               - 5030                                         \n",
      "Covariance Type:                  opg                                         \n",
      "==============================================================================\n",
      "                 coef    std err          z      P>|z|      [0.025      0.975]\n",
      "------------------------------------------------------------------------------\n",
      "ar.L1         -0.0220      0.009     -2.511      0.012      -0.039      -0.005\n",
      "sigma2       272.6246      2.581    105.621      0.000     267.566     277.684\n",
      "===================================================================================\n",
      "Ljung-Box (L1) (Q):                   0.01   Jarque-Bera (JB):             12096.30\n",
      "Prob(Q):                              0.92   Prob(JB):                         0.00\n",
      "Heteroskedasticity (H):               2.24   Skew:                            -0.47\n",
      "Prob(H) (two-sided):                  0.00   Kurtosis:                        10.54\n",
      "===================================================================================\n",
      "\n",
      "Warnings:\n",
      "[1] Covariance matrix calculated using the outer product of gradients (complex-step).\n"
     ]
    },
    {
     "name": "stderr",
     "output_type": "stream",
     "text": [
      "/home/lslima/.local/lib/python3.10/site-packages/statsmodels/tsa/base/tsa_model.py:473: ValueWarning: A date index has been provided, but it has no associated frequency information and so will be ignored when e.g. forecasting.\n",
      "  self._init_dates(dates, freq)\n",
      "/home/lslima/.local/lib/python3.10/site-packages/statsmodels/tsa/base/tsa_model.py:473: ValueWarning: A date index has been provided, but it has no associated frequency information and so will be ignored when e.g. forecasting.\n",
      "  self._init_dates(dates, freq)\n",
      "/home/lslima/.local/lib/python3.10/site-packages/statsmodels/tsa/base/tsa_model.py:473: ValueWarning: A date index has been provided, but it has no associated frequency information and so will be ignored when e.g. forecasting.\n",
      "  self._init_dates(dates, freq)\n"
     ]
    }
   ],
   "source": [
    "# ==============================\n",
    "# 4. Função para testar ordens diferentes\n",
    "# ==============================\n",
    "def testa_arima(order):\n",
    "    model = sm.tsa.ARIMA(X, order=order)\n",
    "    results = model.fit()\n",
    "    print(f\"\\n=== ARIMA{order} ===\")\n",
    "    print(\"AIC:\", results.aic)\n",
    "    print(\"BIC:\", results.bic)\n",
    "    print(results.summary())\n",
    "\n",
    "# Exemplo de testes\n",
    "testa_arima((1,1,0))\n",
    "# testa_arima((0,1,1))\n",
    "\n"
   ]
  },
  {
   "cell_type": "code",
   "execution_count": 50,
   "id": "c415c4a5",
   "metadata": {},
   "outputs": [
    {
     "name": "stderr",
     "output_type": "stream",
     "text": [
      "/home/lslima/.local/lib/python3.10/site-packages/statsmodels/tsa/base/tsa_model.py:473: ValueWarning: A date index has been provided, but it has no associated frequency information and so will be ignored when e.g. forecasting.\n",
      "  self._init_dates(dates, freq)\n",
      "/home/lslima/.local/lib/python3.10/site-packages/statsmodels/tsa/base/tsa_model.py:473: ValueWarning: A date index has been provided, but it has no associated frequency information and so will be ignored when e.g. forecasting.\n",
      "  self._init_dates(dates, freq)\n",
      "/home/lslima/.local/lib/python3.10/site-packages/statsmodels/tsa/base/tsa_model.py:473: ValueWarning: A date index has been provided, but it has no associated frequency information and so will be ignored when e.g. forecasting.\n",
      "  self._init_dates(dates, freq)\n"
     ]
    },
    {
     "name": "stdout",
     "output_type": "stream",
     "text": [
      "\n",
      "=== Teste Ljung-Box para ARIMA(0, 1, 1) ===\n",
      "Lag 1:\n",
      "     lb_stat  lb_pvalue\n",
      "1  0.006651      0.935 \n",
      "\n",
      "Lag 5:\n",
      "     lb_stat  lb_pvalue\n",
      "5  5.605908   0.346472 \n",
      "\n",
      "Lag 10:\n",
      "      lb_stat  lb_pvalue\n",
      "10  14.60426    0.14717 \n",
      "\n",
      "\n",
      "=== Teste Ljung-Box para ARIMA(1, 1, 0) ===\n",
      "Lag 1:\n",
      "     lb_stat  lb_pvalue\n",
      "1  0.006349   0.936493 \n",
      "\n",
      "Lag 5:\n",
      "     lb_stat  lb_pvalue\n",
      "5  5.609084   0.346133 \n",
      "\n",
      "Lag 10:\n",
      "       lb_stat  lb_pvalue\n",
      "10  14.597673   0.147433 \n",
      "\n"
     ]
    },
    {
     "name": "stderr",
     "output_type": "stream",
     "text": [
      "/home/lslima/.local/lib/python3.10/site-packages/statsmodels/tsa/base/tsa_model.py:473: ValueWarning: A date index has been provided, but it has no associated frequency information and so will be ignored when e.g. forecasting.\n",
      "  self._init_dates(dates, freq)\n",
      "/home/lslima/.local/lib/python3.10/site-packages/statsmodels/tsa/base/tsa_model.py:473: ValueWarning: A date index has been provided, but it has no associated frequency information and so will be ignored when e.g. forecasting.\n",
      "  self._init_dates(dates, freq)\n",
      "/home/lslima/.local/lib/python3.10/site-packages/statsmodels/tsa/base/tsa_model.py:473: ValueWarning: A date index has been provided, but it has no associated frequency information and so will be ignored when e.g. forecasting.\n",
      "  self._init_dates(dates, freq)\n"
     ]
    }
   ],
   "source": [
    "# ==============================\n",
    "# 5. Teste de Ljung-Box nos resíduos\n",
    "# ==============================\n",
    "def ljung_box_arima(order):\n",
    "    model = sm.tsa.ARIMA(X, order=order)\n",
    "    results = model.fit()\n",
    "    resid = np.array(results.resid.dropna())\n",
    "    print(f\"\\n=== Teste Ljung-Box para ARIMA{order} ===\")\n",
    "    for lag in [1, 5, 10]:\n",
    "        lb = acorr_ljungbox(resid, lags=[lag], return_df=True)\n",
    "        print(f\"Lag {lag}:\\n\", lb, \"\\n\")\n",
    "\n",
    "ljung_box_arima((0,1,1))\n",
    "ljung_box_arima((1,1,0))\n",
    "\n"
   ]
  },
  {
   "cell_type": "code",
   "execution_count": 51,
   "id": "c824265c",
   "metadata": {},
   "outputs": [
    {
     "data": {
      "image/png": "[encoded data removed]",
      "text/plain": [
       "<Figure size 1200x600 with 1 Axes>"
      ]
     },
     "metadata": {},
     "output_type": "display_data"
    }
   ],
   "source": [
    "# ==============================\n",
    "# 6. Visualização\n",
    "# ==============================\n",
    "plt.figure(figsize=(12,6))\n",
    "plt.plot(X, label='Preço de Fechamento do Ouro')\n",
    "plt.title('Série Histórica do Ouro (20 anos)', fontsize=14)\n",
    "plt.xlabel('Ano')\n",
    "plt.ylabel('Preço em USD')\n",
    "plt.legend()\n",
    "plt.grid(True)\n",
    "plt.show()\n"
   ]
  },
  {
   "cell_type": "code",
   "execution_count": 54,
   "id": "eea926c2",
   "metadata": {},
   "outputs": [
    {
     "name": "stderr",
     "output_type": "stream",
     "text": [
      "/home/lslima/.local/lib/python3.10/site-packages/statsmodels/tsa/base/tsa_model.py:473: ValueWarning: A date index has been provided, but it has no associated frequency information and so will be ignored when e.g. forecasting.\n",
      "  self._init_dates(dates, freq)\n",
      "/home/lslima/.local/lib/python3.10/site-packages/statsmodels/tsa/base/tsa_model.py:473: ValueWarning: A date index has been provided, but it has no associated frequency information and so will be ignored when e.g. forecasting.\n",
      "  self._init_dates(dates, freq)\n",
      "/home/lslima/.local/lib/python3.10/site-packages/statsmodels/tsa/base/tsa_model.py:473: ValueWarning: A date index has been provided, but it has no associated frequency information and so will be ignored when e.g. forecasting.\n",
      "  self._init_dates(dates, freq)\n",
      "/home/lslima/.local/lib/python3.10/site-packages/statsmodels/tsa/base/tsa_model.py:837: ValueWarning: No supported index is available. Prediction results will be given with an integer index beginning at `start`.\n",
      "  return get_prediction_index(\n",
      "/home/lslima/.local/lib/python3.10/site-packages/statsmodels/tsa/base/tsa_model.py:837: FutureWarning: No supported index is available. In the next version, calling this method in a model without a supported index will result in an exception.\n",
      "  return get_prediction_index(\n",
      "/tmp/ipykernel_10477/1542006440.py:20: RuntimeWarning: '<' not supported between instances of 'int' and 'Timestamp', sort order is undefined for incomparable objects.\n",
      "  mape = np.mean(np.abs((X_test - forecast) / X_test)) * 100\n",
      "/home/lslima/.local/lib/python3.10/site-packages/statsmodels/tsa/base/tsa_model.py:473: ValueWarning: A date index has been provided, but it has no associated frequency information and so will be ignored when e.g. forecasting.\n",
      "  self._init_dates(dates, freq)\n",
      "/home/lslima/.local/lib/python3.10/site-packages/statsmodels/tsa/base/tsa_model.py:473: ValueWarning: A date index has been provided, but it has no associated frequency information and so will be ignored when e.g. forecasting.\n",
      "  self._init_dates(dates, freq)\n",
      "/home/lslima/.local/lib/python3.10/site-packages/statsmodels/tsa/base/tsa_model.py:473: ValueWarning: A date index has been provided, but it has no associated frequency information and so will be ignored when e.g. forecasting.\n",
      "  self._init_dates(dates, freq)\n",
      "/home/lslima/.local/lib/python3.10/site-packages/statsmodels/tsa/base/tsa_model.py:837: ValueWarning: No supported index is available. Prediction results will be given with an integer index beginning at `start`.\n",
      "  return get_prediction_index(\n",
      "/home/lslima/.local/lib/python3.10/site-packages/statsmodels/tsa/base/tsa_model.py:837: FutureWarning: No supported index is available. In the next version, calling this method in a model without a supported index will result in an exception.\n",
      "  return get_prediction_index(\n"
     ]
    },
    {
     "name": "stdout",
     "output_type": "stream",
     "text": [
      "\n",
      "=== Avaliação ARIMA(1, 1, 1) ===\n",
      "AIC: 32870.862695896765\n",
      "BIC: 32889.762045412615\n",
      "MAE: 461.8624339241624\n",
      "RMSE: 667.5822237827396\n",
      "MAPE (%): nan\n"
     ]
    },
    {
     "name": "stderr",
     "output_type": "stream",
     "text": [
      "/tmp/ipykernel_10477/1542006440.py:20: RuntimeWarning: '<' not supported between instances of 'int' and 'Timestamp', sort order is undefined for incomparable objects.\n",
      "  mape = np.mean(np.abs((X_test - forecast) / X_test)) * 100\n",
      "/home/lslima/.local/lib/python3.10/site-packages/statsmodels/tsa/base/tsa_model.py:473: ValueWarning: A date index has been provided, but it has no associated frequency information and so will be ignored when e.g. forecasting.\n",
      "  self._init_dates(dates, freq)\n",
      "/home/lslima/.local/lib/python3.10/site-packages/statsmodels/tsa/base/tsa_model.py:473: ValueWarning: A date index has been provided, but it has no associated frequency information and so will be ignored when e.g. forecasting.\n",
      "  self._init_dates(dates, freq)\n",
      "/home/lslima/.local/lib/python3.10/site-packages/statsmodels/tsa/base/tsa_model.py:473: ValueWarning: A date index has been provided, but it has no associated frequency information and so will be ignored when e.g. forecasting.\n",
      "  self._init_dates(dates, freq)\n",
      "/home/lslima/.local/lib/python3.10/site-packages/statsmodels/tsa/base/tsa_model.py:837: ValueWarning: No supported index is available. Prediction results will be given with an integer index beginning at `start`.\n",
      "  return get_prediction_index(\n",
      "/home/lslima/.local/lib/python3.10/site-packages/statsmodels/tsa/base/tsa_model.py:837: FutureWarning: No supported index is available. In the next version, calling this method in a model without a supported index will result in an exception.\n",
      "  return get_prediction_index(\n",
      "/tmp/ipykernel_10477/1542006440.py:20: RuntimeWarning: '<' not supported between instances of 'int' and 'Timestamp', sort order is undefined for incomparable objects.\n",
      "  mape = np.mean(np.abs((X_test - forecast) / X_test)) * 100\n"
     ]
    },
    {
     "name": "stdout",
     "output_type": "stream",
     "text": [
      "\n",
      "=== Avaliação ARIMA(0, 1, 1) ===\n",
      "AIC: 32868.863988923695\n",
      "BIC: 32881.4635552676\n",
      "MAE: 461.8378555373953\n",
      "RMSE: 667.5630403344958\n",
      "MAPE (%): nan\n",
      "\n",
      "=== Avaliação ARIMA(1, 1, 0) ===\n",
      "AIC: 32868.86279601385\n",
      "BIC: 32881.46236235775\n",
      "MAE: 461.8413925069536\n",
      "RMSE: 667.5658012143977\n",
      "MAPE (%): nan\n"
     ]
    },
    {
     "data": {
      "text/plain": [
       "{'order': (1, 1, 0),\n",
       " 'AIC': np.float64(32868.86279601385),\n",
       " 'BIC': np.float64(32881.46236235775),\n",
       " 'MAE': 461.8413925069536,\n",
       " 'RMSE': np.float64(667.5658012143977),\n",
       " 'MAPE': nan}"
      ]
     },
     "execution_count": 54,
     "metadata": {},
     "output_type": "execute_result"
    }
   ],
   "source": [
    "# --- Função para avaliar modelos ARIMA ---\n",
    "def avaliar_arima(order, X, split_ratio=0.8):\n",
    "    \"\"\"\n",
    "    Avalia um ARIMA com base em AIC, BIC e erros de previsão (MAE, RMSE, MAPE).\n",
    "    \"\"\"\n",
    "    # Split treino/teste\n",
    "    split_point = int(len(X) * split_ratio)\n",
    "    X_train, X_test = X.iloc[:split_point], X.iloc[split_point:]\n",
    "    \n",
    "    # Ajustar no treino\n",
    "    model = sm.tsa.ARIMA(X_train, order=order)\n",
    "    results = model.fit()\n",
    "    \n",
    "    # Previsão para o período de teste\n",
    "    forecast = results.forecast(steps=len(X_test))\n",
    "    \n",
    "    # Métricas\n",
    "    mae = mean_absolute_error(X_test, forecast)\n",
    "    rmse = np.sqrt(mean_squared_error(X_test, forecast))\n",
    "    mape = np.mean(np.abs((X_test - forecast) / X_test)) * 100\n",
    "    \n",
    "    print(f\"\\n=== Avaliação ARIMA{order} ===\")\n",
    "    print(\"AIC:\", results.aic)\n",
    "    print(\"BIC:\", results.bic)\n",
    "    print(\"MAE:\", mae)\n",
    "    print(\"RMSE:\", rmse)\n",
    "    print(\"MAPE (%):\", mape)\n",
    "    \n",
    "    return {\n",
    "        \"order\": order,\n",
    "        \"AIC\": results.aic,\n",
    "        \"BIC\": results.bic,\n",
    "        \"MAE\": mae,\n",
    "        \"RMSE\": rmse,\n",
    "        \"MAPE\": mape\n",
    "    }\n",
    "\n",
    "# --- Exemplo de uso ---\n",
    "avaliar_arima((1,1,1), X)\n",
    "avaliar_arima((0,1,1), X)\n",
    "avaliar_arima((1,1,0), X)"
   ]
  }
 ],
 "metadata": {
  "kernelspec": {
   "display_name": "Python 3",
   "language": "python",
   "name": "python3"
  },
  "language_info": {
   "codemirror_mode": {
    "name": "ipython",
    "version": 3
   },
   "file_extension": ".py",
   "mimetype": "text/x-python",
   "name": "python",
   "nbconvert_exporter": "python",
   "pygments_lexer": "ipython3",
   "version": "3.10.12"
  }
 },
 "nbformat": 4,
 "nbformat_minor": 5
}
